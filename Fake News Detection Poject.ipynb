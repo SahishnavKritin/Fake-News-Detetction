{
 "cells": [
  {
   "cell_type": "code",
   "execution_count": 195,
   "id": "0d069b8c",
   "metadata": {},
   "outputs": [],
   "source": [
    "import pandas as pd\n",
    "import numpy as np\n",
    "import matplotlib.pyplot as plt\n",
    "from sklearn.model_selection import train_test_split\n",
    "from sklearn.feature_extraction.text import TfidfVectorizer\n",
    "from sklearn.linear_model import PassiveAggressiveClassifier\n",
    "from sklearn.metrics import accuracy_score, confusion_matrix\n"
   ]
  },
  {
   "cell_type": "code",
   "execution_count": 196,
   "id": "2043a3a4",
   "metadata": {},
   "outputs": [
    {
     "name": "stdout",
     "output_type": "stream",
     "text": [
      "REAL                                                                            3161\n",
      "FAKE                                                                            3154\n",
      " or naturalization or by jus sanguinis – inherited through ancestors/parents       3\n",
      " for example                                                                       2\n",
      " Philippines                                                                       2\n",
      "                                                                                ... \n",
      " Plan D marked                                                                     1\n",
      " the Jewish settlers had built their houses higher up the mountain. Thus           1\n",
      " Tel Aviv–Jaffa                                                                    1\n",
      " the Haganah attacked the village of Khisas at night                               1\n",
      " George W. Bush                                                                    1\n",
      "Name: label, Length: 437, dtype: int64\n"
     ]
    },
    {
     "name": "stderr",
     "output_type": "stream",
     "text": [
      "C:\\ProgramData\\Anaconda3\\lib\\site-packages\\IPython\\core\\interactiveshell.py:3444: DtypeWarning: Columns (24,25,26,27,28,29,30,31,32,33,34,35,36,37,38,39,40,41,42,43,44,45,46,47,48,49,50,51,52,53,54,55,56,57,58,59,60,61,62,63,64,65,66,67,68,69,70,71,72,73,74,75,76,77,78,79,80,81,82,83,84,85,86,87,88,89,90,91,92,93,94,95,96,97,98,99,100,101,102,103,104,105,106,107,108,109,110,111,112,113,114,115,116,117,118,119,120,121,122,123,124,125,126,127,128,129,130,131,132,133,134,135,136,137,138,139,140) have mixed types.Specify dtype option on import or set low_memory=False.\n",
      "  exec(code_obj, self.user_global_ns, self.user_ns)\n"
     ]
    }
   ],
   "source": [
    "df=pd.read_csv('news.csv')\n",
    "df.head()\n",
    "dflabel=df.label\n",
    "dflabel.head()\n",
    "target=df.label.value_counts()\n",
    "print(target)"
   ]
  },
  {
   "cell_type": "code",
   "execution_count": 197,
   "id": "79a5c6f9",
   "metadata": {},
   "outputs": [
    {
     "data": {
      "text/plain": [
       "0    FAKE\n",
       "1    FAKE\n",
       "2    REAL\n",
       "3    FAKE\n",
       "4    REAL\n",
       "Name: label, dtype: object"
      ]
     },
     "execution_count": 197,
     "metadata": {},
     "output_type": "execute_result"
    }
   ],
   "source": [
    "dflabel=df.label\n",
    "dflabel.head()"
   ]
  },
  {
   "cell_type": "code",
   "execution_count": 198,
   "id": "567fd400",
   "metadata": {},
   "outputs": [
    {
     "name": "stdout",
     "output_type": "stream",
     "text": [
      "REAL                                                                            3161\n",
      "FAKE                                                                            3154\n",
      " or naturalization or by jus sanguinis – inherited through ancestors/parents       3\n",
      " for example                                                                       2\n",
      " Philippines                                                                       2\n",
      "                                                                                ... \n",
      " Plan D marked                                                                     1\n",
      " the Jewish settlers had built their houses higher up the mountain. Thus           1\n",
      " Tel Aviv–Jaffa                                                                    1\n",
      " the Haganah attacked the village of Khisas at night                               1\n",
      " George W. Bush                                                                    1\n",
      "Name: label, Length: 437, dtype: int64\n"
     ]
    }
   ],
   "source": [
    "target=df.label.value_counts()\n",
    "print(target)\n"
   ]
  },
  {
   "cell_type": "code",
   "execution_count": 199,
   "id": "9919fb0c",
   "metadata": {
    "scrolled": true
   },
   "outputs": [
    {
     "data": {
      "text/plain": [
       "(7795, 141)"
      ]
     },
     "execution_count": 199,
     "metadata": {},
     "output_type": "execute_result"
    }
   ],
   "source": [
    "df.shape"
   ]
  },
  {
   "cell_type": "code",
   "execution_count": 200,
   "id": "359c0058",
   "metadata": {},
   "outputs": [
    {
     "name": "stdout",
     "output_type": "stream",
     "text": [
      "REAL    3161\n",
      "FAKE    3154\n",
      "Name: label, dtype: int64\n"
     ]
    }
   ],
   "source": [
    "#removing rows with non REAL/FAKE values (incorrect data entry)\n",
    "for i in range(0,7795):\n",
    "    x=df.loc[i,\"label\"]\n",
    "    if (x!= 'REAL') and (x!= 'FAKE'):\n",
    "        df.drop(i, inplace=True)\n",
    "target=df.label.value_counts()\n",
    "print(target)"
   ]
  },
  {
   "cell_type": "code",
   "execution_count": 201,
   "id": "d27b34bc",
   "metadata": {},
   "outputs": [
    {
     "data": {
      "text/plain": [
       "(6315, 141)"
      ]
     },
     "execution_count": 201,
     "metadata": {},
     "output_type": "execute_result"
    }
   ],
   "source": [
    "dflabel=df.label\n",
    "df.shape"
   ]
  },
  {
   "cell_type": "code",
   "execution_count": 202,
   "id": "a2bca587",
   "metadata": {},
   "outputs": [],
   "source": [
    "xtrain,xtest,ytrain,ytest=train_test_split(dftext, dflabel, test_size=0.2, random_state=5)"
   ]
  },
  {
   "cell_type": "code",
   "execution_count": 203,
   "id": "43bfcc62",
   "metadata": {},
   "outputs": [],
   "source": [
    "#initializing a Tfidf Vectorizer\n",
    "tv=TfidfVectorizer(stop_words='english', max_df=0.7)\n",
    "tftrain=tv.fit_transform(xtrain)\n",
    "tftest=tv.transform(xtest)"
   ]
  },
  {
   "cell_type": "code",
   "execution_count": 204,
   "id": "2385d0e6",
   "metadata": {},
   "outputs": [
    {
     "name": "stdout",
     "output_type": "stream",
     "text": [
      "93.35 %\n"
     ]
    }
   ],
   "source": [
    "#initializing a Passive Aggressive Classifier\n",
    "pac=PassiveAggressiveClassifier(max_iter=50)\n",
    "pac.fit(tftrain,ytrain)\n",
    "ypred=pac.predict(tftest)\n",
    "score=round(accuracy_score(ytest,ypred)*100,2)\n",
    "print(score,\"%\")"
   ]
  },
  {
   "cell_type": "code",
   "execution_count": 205,
   "id": "1e31ff69",
   "metadata": {},
   "outputs": [
    {
     "name": "stdout",
     "output_type": "stream",
     "text": [
      "[[596  48]\n",
      " [ 36 583]]\n"
     ]
    }
   ],
   "source": [
    "cm=confusion_matrix(ytest,ypred,labels=['REAL','FAKE'])\n",
    "print(cm)\n"
   ]
  },
  {
   "cell_type": "code",
   "execution_count": 206,
   "id": "6674e460",
   "metadata": {},
   "outputs": [
    {
     "data": {
      "image/png": "[encoded data removed]",
      "text/plain": [
       "<Figure size 432x288 with 1 Axes>"
      ]
     },
     "metadata": {
      "needs_background": "light"
     },
     "output_type": "display_data"
    }
   ],
   "source": [
    "x=['True_Reals', 'False_Fake', 'False_Real', 'True_Fake']\n",
    "y=[cm[0][0],cm[0][1],cm[1][0],cm[1][1]]\n",
    "plt.bar(x,y)\n",
    "plt.show()"
   ]
  }
 ],
 "metadata": {
  "kernelspec": {
   "display_name": "Python 3 (ipykernel)",
   "language": "python",
   "name": "python3"
  },
  "language_info": {
   "codemirror_mode": {
    "name": "ipython",
    "version": 3
   },
   "file_extension": ".py",
   "mimetype": "text/x-python",
   "name": "python",
   "nbconvert_exporter": "python",
   "pygments_lexer": "ipython3",
   "version": "3.9.7"
  }
 },
 "nbformat": 4,
 "nbformat_minor": 5
}
